{
 "cells": [
  {
   "cell_type": "code",
   "execution_count": 23,
   "metadata": {
    "collapsed": false
   },
   "outputs": [],
   "source": [
    "#Importando dados excel\n",
    "import os\n",
    "cwd = os.getcwd()\n",
    "cwd\n",
    "os.chdir('/Users/luizbezerra/Desktop/excel')"
   ]
  },
  {
   "cell_type": "code",
   "execution_count": 24,
   "metadata": {
    "collapsed": false
   },
   "outputs": [],
   "source": [
    "import pandas as pd\n",
    "file = 'alpha.xlsx'\n",
    "xl = pd.ExcelFile(file)\n",
    "df1 = xl.parse('Plan1')"
   ]
  },
  {
   "cell_type": "code",
   "execution_count": 25,
   "metadata": {
    "collapsed": false
   },
   "outputs": [
    {
     "data": {
      "text/html": [
       "<div>\n",
       "<table border=\"1\" class=\"dataframe\">\n",
       "  <thead>\n",
       "    <tr style=\"text-align: right;\">\n",
       "      <th></th>\n",
       "      <th>alpha.garch.t</th>\n",
       "      <th>alpha.garch.st</th>\n",
       "      <th>alpha.gas</th>\n",
       "      <th>alpha.gas.t</th>\n",
       "      <th>alpha.gas.sp</th>\n",
       "    </tr>\n",
       "  </thead>\n",
       "  <tbody>\n",
       "    <tr>\n",
       "      <th>0</th>\n",
       "      <td>0.119143</td>\n",
       "      <td>0.123147</td>\n",
       "      <td>0.047269</td>\n",
       "      <td>0.106004</td>\n",
       "      <td>0.092948</td>\n",
       "    </tr>\n",
       "    <tr>\n",
       "      <th>1</th>\n",
       "      <td>0.120402</td>\n",
       "      <td>0.126401</td>\n",
       "      <td>0.068893</td>\n",
       "      <td>0.104066</td>\n",
       "      <td>0.157899</td>\n",
       "    </tr>\n",
       "    <tr>\n",
       "      <th>2</th>\n",
       "      <td>0.088110</td>\n",
       "      <td>0.071477</td>\n",
       "      <td>0.049000</td>\n",
       "      <td>0.066843</td>\n",
       "      <td>0.077099</td>\n",
       "    </tr>\n",
       "    <tr>\n",
       "      <th>3</th>\n",
       "      <td>0.121320</td>\n",
       "      <td>0.135513</td>\n",
       "      <td>0.057615</td>\n",
       "      <td>0.113288</td>\n",
       "      <td>0.124079</td>\n",
       "    </tr>\n",
       "    <tr>\n",
       "      <th>4</th>\n",
       "      <td>0.109631</td>\n",
       "      <td>0.104221</td>\n",
       "      <td>0.069095</td>\n",
       "      <td>0.088912</td>\n",
       "      <td>0.099729</td>\n",
       "    </tr>\n",
       "    <tr>\n",
       "      <th>5</th>\n",
       "      <td>0.096278</td>\n",
       "      <td>0.075813</td>\n",
       "      <td>0.032480</td>\n",
       "      <td>0.069173</td>\n",
       "      <td>0.059682</td>\n",
       "    </tr>\n",
       "    <tr>\n",
       "      <th>6</th>\n",
       "      <td>0.107249</td>\n",
       "      <td>0.105515</td>\n",
       "      <td>0.076250</td>\n",
       "      <td>0.098090</td>\n",
       "      <td>0.223248</td>\n",
       "    </tr>\n",
       "    <tr>\n",
       "      <th>7</th>\n",
       "      <td>0.112368</td>\n",
       "      <td>0.120899</td>\n",
       "      <td>0.057204</td>\n",
       "      <td>0.097549</td>\n",
       "      <td>0.080057</td>\n",
       "    </tr>\n",
       "    <tr>\n",
       "      <th>8</th>\n",
       "      <td>0.098575</td>\n",
       "      <td>0.104404</td>\n",
       "      <td>0.049828</td>\n",
       "      <td>0.092217</td>\n",
       "      <td>0.082227</td>\n",
       "    </tr>\n",
       "    <tr>\n",
       "      <th>9</th>\n",
       "      <td>0.101496</td>\n",
       "      <td>0.096034</td>\n",
       "      <td>0.053374</td>\n",
       "      <td>0.087960</td>\n",
       "      <td>0.089542</td>\n",
       "    </tr>\n",
       "    <tr>\n",
       "      <th>10</th>\n",
       "      <td>0.091217</td>\n",
       "      <td>0.101295</td>\n",
       "      <td>0.045155</td>\n",
       "      <td>0.089462</td>\n",
       "      <td>0.104005</td>\n",
       "    </tr>\n",
       "    <tr>\n",
       "      <th>11</th>\n",
       "      <td>0.110795</td>\n",
       "      <td>0.100482</td>\n",
       "      <td>0.043338</td>\n",
       "      <td>0.095727</td>\n",
       "      <td>0.091997</td>\n",
       "    </tr>\n",
       "    <tr>\n",
       "      <th>12</th>\n",
       "      <td>0.096553</td>\n",
       "      <td>0.077823</td>\n",
       "      <td>0.050831</td>\n",
       "      <td>0.078726</td>\n",
       "      <td>0.084108</td>\n",
       "    </tr>\n",
       "    <tr>\n",
       "      <th>13</th>\n",
       "      <td>0.119473</td>\n",
       "      <td>0.123923</td>\n",
       "      <td>0.084139</td>\n",
       "      <td>0.110824</td>\n",
       "      <td>0.142872</td>\n",
       "    </tr>\n",
       "    <tr>\n",
       "      <th>14</th>\n",
       "      <td>0.080099</td>\n",
       "      <td>0.064938</td>\n",
       "      <td>0.034299</td>\n",
       "      <td>0.072396</td>\n",
       "      <td>0.044765</td>\n",
       "    </tr>\n",
       "  </tbody>\n",
       "</table>\n",
       "</div>"
      ],
      "text/plain": [
       "    alpha.garch.t  alpha.garch.st  alpha.gas  alpha.gas.t  alpha.gas.sp\n",
       "0        0.119143        0.123147   0.047269     0.106004      0.092948\n",
       "1        0.120402        0.126401   0.068893     0.104066      0.157899\n",
       "2        0.088110        0.071477   0.049000     0.066843      0.077099\n",
       "3        0.121320        0.135513   0.057615     0.113288      0.124079\n",
       "4        0.109631        0.104221   0.069095     0.088912      0.099729\n",
       "5        0.096278        0.075813   0.032480     0.069173      0.059682\n",
       "6        0.107249        0.105515   0.076250     0.098090      0.223248\n",
       "7        0.112368        0.120899   0.057204     0.097549      0.080057\n",
       "8        0.098575        0.104404   0.049828     0.092217      0.082227\n",
       "9        0.101496        0.096034   0.053374     0.087960      0.089542\n",
       "10       0.091217        0.101295   0.045155     0.089462      0.104005\n",
       "11       0.110795        0.100482   0.043338     0.095727      0.091997\n",
       "12       0.096553        0.077823   0.050831     0.078726      0.084108\n",
       "13       0.119473        0.123923   0.084139     0.110824      0.142872\n",
       "14       0.080099        0.064938   0.034299     0.072396      0.044765"
      ]
     },
     "execution_count": 25,
     "metadata": {},
     "output_type": "execute_result"
    }
   ],
   "source": [
    "df1.head(15)"
   ]
  },
  {
   "cell_type": "code",
   "execution_count": 26,
   "metadata": {
    "collapsed": false
   },
   "outputs": [
    {
     "data": {
      "text/plain": [
       "alpha.garch.t     0.099026\n",
       "alpha.garch.st    0.092838\n",
       "alpha.gas         0.056385\n",
       "alpha.gas.t       0.085655\n",
       "alpha.gas.sp      0.099786\n",
       "dtype: float64"
      ]
     },
     "execution_count": 26,
     "metadata": {},
     "output_type": "execute_result"
    }
   ],
   "source": [
    "df1.mean()"
   ]
  },
  {
   "cell_type": "code",
   "execution_count": 27,
   "metadata": {
    "collapsed": false
   },
   "outputs": [
    {
     "data": {
      "text/plain": [
       "alpha.garch.t     0.000200\n",
       "alpha.garch.st    0.000285\n",
       "alpha.gas         0.000305\n",
       "alpha.gas.t       0.000181\n",
       "alpha.gas.sp      0.002403\n",
       "dtype: float64"
      ]
     },
     "execution_count": 27,
     "metadata": {},
     "output_type": "execute_result"
    }
   ],
   "source": [
    "df1.var()"
   ]
  },
  {
   "cell_type": "code",
   "execution_count": 29,
   "metadata": {
    "collapsed": false
   },
   "outputs": [
    {
     "data": {
      "image/png": "[encoded data removed]",
      "text/plain": [
       "<matplotlib.figure.Figure at 0x11f8627f0>"
      ]
     },
     "metadata": {},
     "output_type": "display_data"
    }
   ],
   "source": [
    "import pandas as pd\n",
    "import numpy as np\n",
    "import pandas as pd\n",
    "from scipy import stats, integrate\n",
    "import seaborn as sns\n",
    "import matplotlib.pyplot as plt\n",
    "import os\n",
    "import warnings\n",
    "warnings.filterwarnings(\"ignore\")\n",
    "cwd = os.getcwd()\n",
    "cwd\n",
    "os.chdir('/Users/luizbezerra/Desktop/excel')\n",
    "os.listdir('.')\n",
    "file = 'alpha.xlsx'\n",
    "xl = pd.ExcelFile(file)\n",
    "df1 = xl.parse('Plan1')\n",
    "sns.set(color_codes=True)\n",
    "np.random.seed(sum(map(ord, \"distributions\")))\n",
    "names = df1.columns.values\n",
    "for i in range(0,5,1): \n",
    "    x = df1[[i]]\n",
    "    x = np.array(x)      \n",
    "    x = x.flatten()           \n",
    "    #sns.kdeplot(x, bw=.05, label=names[i])\n",
    "    sns.distplot(x, hist = False, label=names[i]);\n",
    "\n",
    "plt.axvline(x=0.1)\n",
    "plt.show()"
   ]
  },
  {
   "cell_type": "code",
   "execution_count": null,
   "metadata": {
    "collapsed": true
   },
   "outputs": [],
   "source": []
  },
  {
   "cell_type": "code",
   "execution_count": null,
   "metadata": {
    "collapsed": true
   },
   "outputs": [],
   "source": []
  }
 ],
 "metadata": {
  "kernelspec": {
   "display_name": "Python 3",
   "language": "python",
   "name": "python3"
  },
  "language_info": {
   "codemirror_mode": {
    "name": "ipython",
    "version": 3
   },
   "file_extension": ".py",
   "mimetype": "text/x-python",
   "name": "python",
   "nbconvert_exporter": "python",
   "pygments_lexer": "ipython3",
   "version": "3.6.0"
  }
 },
 "nbformat": 4,
 "nbformat_minor": 2
}
