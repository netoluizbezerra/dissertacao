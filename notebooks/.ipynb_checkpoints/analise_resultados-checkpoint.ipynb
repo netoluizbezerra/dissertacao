{
 "cells": [
  {
   "cell_type": "code",
   "execution_count": 2,
   "metadata": {
    "collapsed": false
   },
   "outputs": [],
   "source": [
    "#Importando dados excel\n",
    "import os\n",
    "cwd = os.getcwd()\n",
    "cwd\n",
    "os.chdir('/Users/luizbezerra/Desktop/excel')"
   ]
  },
  {
   "cell_type": "code",
   "execution_count": 3,
   "metadata": {
    "collapsed": false
   },
   "outputs": [],
   "source": [
    "import pandas as pd\n",
    "file = 'beta.xlsx'\n",
    "xl = pd.ExcelFile(file)\n",
    "df1 = xl.parse('Sheet1')"
   ]
  },
  {
   "cell_type": "code",
   "execution_count": 4,
   "metadata": {
    "collapsed": false
   },
   "outputs": [
    {
     "data": {
      "text/html": [
       "<div>\n",
       "<table border=\"1\" class=\"dataframe\">\n",
       "  <thead>\n",
       "    <tr style=\"text-align: right;\">\n",
       "      <th></th>\n",
       "      <th>beta.garch.st</th>\n",
       "      <th>beta.garch.t</th>\n",
       "      <th>beta.gas</th>\n",
       "      <th>beta.gas.t</th>\n",
       "      <th>beta.gas.sp</th>\n",
       "    </tr>\n",
       "  </thead>\n",
       "  <tbody>\n",
       "    <tr>\n",
       "      <th>0</th>\n",
       "      <td>0.828193</td>\n",
       "      <td>0.796616</td>\n",
       "      <td>0.858624</td>\n",
       "      <td>0.805191</td>\n",
       "      <td>0.788380</td>\n",
       "    </tr>\n",
       "    <tr>\n",
       "      <th>1</th>\n",
       "      <td>0.839602</td>\n",
       "      <td>0.860452</td>\n",
       "      <td>0.875100</td>\n",
       "      <td>0.863481</td>\n",
       "      <td>0.829351</td>\n",
       "    </tr>\n",
       "    <tr>\n",
       "      <th>2</th>\n",
       "      <td>0.833204</td>\n",
       "      <td>0.854954</td>\n",
       "      <td>0.857364</td>\n",
       "      <td>0.854834</td>\n",
       "      <td>0.809311</td>\n",
       "    </tr>\n",
       "    <tr>\n",
       "      <th>3</th>\n",
       "      <td>0.827836</td>\n",
       "      <td>0.824120</td>\n",
       "      <td>0.872485</td>\n",
       "      <td>0.833496</td>\n",
       "      <td>0.814501</td>\n",
       "    </tr>\n",
       "    <tr>\n",
       "      <th>4</th>\n",
       "      <td>0.833477</td>\n",
       "      <td>0.822160</td>\n",
       "      <td>0.865709</td>\n",
       "      <td>0.838602</td>\n",
       "      <td>0.827483</td>\n",
       "    </tr>\n",
       "    <tr>\n",
       "      <th>5</th>\n",
       "      <td>0.842900</td>\n",
       "      <td>0.842282</td>\n",
       "      <td>0.870121</td>\n",
       "      <td>0.843932</td>\n",
       "      <td>0.851824</td>\n",
       "    </tr>\n",
       "    <tr>\n",
       "      <th>6</th>\n",
       "      <td>0.838246</td>\n",
       "      <td>0.825008</td>\n",
       "      <td>0.905479</td>\n",
       "      <td>0.847159</td>\n",
       "      <td>0.875276</td>\n",
       "    </tr>\n",
       "    <tr>\n",
       "      <th>7</th>\n",
       "      <td>0.851113</td>\n",
       "      <td>0.850863</td>\n",
       "      <td>0.866113</td>\n",
       "      <td>0.846911</td>\n",
       "      <td>0.878514</td>\n",
       "    </tr>\n",
       "    <tr>\n",
       "      <th>8</th>\n",
       "      <td>0.848715</td>\n",
       "      <td>0.859863</td>\n",
       "      <td>0.919102</td>\n",
       "      <td>0.841006</td>\n",
       "      <td>0.830718</td>\n",
       "    </tr>\n",
       "    <tr>\n",
       "      <th>9</th>\n",
       "      <td>0.844274</td>\n",
       "      <td>0.879864</td>\n",
       "      <td>0.940182</td>\n",
       "      <td>0.864333</td>\n",
       "      <td>0.876989</td>\n",
       "    </tr>\n",
       "    <tr>\n",
       "      <th>10</th>\n",
       "      <td>0.850380</td>\n",
       "      <td>0.858477</td>\n",
       "      <td>0.898678</td>\n",
       "      <td>0.857207</td>\n",
       "      <td>0.867861</td>\n",
       "    </tr>\n",
       "    <tr>\n",
       "      <th>11</th>\n",
       "      <td>0.841962</td>\n",
       "      <td>0.842155</td>\n",
       "      <td>0.737998</td>\n",
       "      <td>0.849337</td>\n",
       "      <td>0.617564</td>\n",
       "    </tr>\n",
       "    <tr>\n",
       "      <th>12</th>\n",
       "      <td>0.840364</td>\n",
       "      <td>0.818116</td>\n",
       "      <td>0.882321</td>\n",
       "      <td>0.826060</td>\n",
       "      <td>0.850612</td>\n",
       "    </tr>\n",
       "    <tr>\n",
       "      <th>13</th>\n",
       "      <td>0.829866</td>\n",
       "      <td>0.773099</td>\n",
       "      <td>0.743890</td>\n",
       "      <td>0.785396</td>\n",
       "      <td>0.774552</td>\n",
       "    </tr>\n",
       "    <tr>\n",
       "      <th>14</th>\n",
       "      <td>0.846040</td>\n",
       "      <td>0.875254</td>\n",
       "      <td>0.862184</td>\n",
       "      <td>0.867313</td>\n",
       "      <td>0.822782</td>\n",
       "    </tr>\n",
       "  </tbody>\n",
       "</table>\n",
       "</div>"
      ],
      "text/plain": [
       "    beta.garch.st  beta.garch.t  beta.gas  beta.gas.t  beta.gas.sp\n",
       "0        0.828193      0.796616  0.858624    0.805191     0.788380\n",
       "1        0.839602      0.860452  0.875100    0.863481     0.829351\n",
       "2        0.833204      0.854954  0.857364    0.854834     0.809311\n",
       "3        0.827836      0.824120  0.872485    0.833496     0.814501\n",
       "4        0.833477      0.822160  0.865709    0.838602     0.827483\n",
       "5        0.842900      0.842282  0.870121    0.843932     0.851824\n",
       "6        0.838246      0.825008  0.905479    0.847159     0.875276\n",
       "7        0.851113      0.850863  0.866113    0.846911     0.878514\n",
       "8        0.848715      0.859863  0.919102    0.841006     0.830718\n",
       "9        0.844274      0.879864  0.940182    0.864333     0.876989\n",
       "10       0.850380      0.858477  0.898678    0.857207     0.867861\n",
       "11       0.841962      0.842155  0.737998    0.849337     0.617564\n",
       "12       0.840364      0.818116  0.882321    0.826060     0.850612\n",
       "13       0.829866      0.773099  0.743890    0.785396     0.774552\n",
       "14       0.846040      0.875254  0.862184    0.867313     0.822782"
      ]
     },
     "execution_count": 4,
     "metadata": {},
     "output_type": "execute_result"
    }
   ],
   "source": [
    "df1.head(15)"
   ]
  },
  {
   "cell_type": "code",
   "execution_count": 5,
   "metadata": {
    "collapsed": false
   },
   "outputs": [
    {
     "data": {
      "text/plain": [
       "beta.garch.st    0.849372\n",
       "beta.garch.t     0.854622\n",
       "beta.gas         0.882051\n",
       "beta.gas.t       0.854976\n",
       "beta.gas.sp      0.831466\n",
       "dtype: float64"
      ]
     },
     "execution_count": 5,
     "metadata": {},
     "output_type": "execute_result"
    }
   ],
   "source": [
    "df1.mean()"
   ]
  },
  {
   "cell_type": "code",
   "execution_count": 6,
   "metadata": {
    "collapsed": false
   },
   "outputs": [
    {
     "data": {
      "text/plain": [
       "beta.garch.st    0.000319\n",
       "beta.garch.t     0.000579\n",
       "beta.gas         0.001726\n",
       "beta.gas.t       0.000655\n",
       "beta.gas.sp      0.005591\n",
       "dtype: float64"
      ]
     },
     "execution_count": 6,
     "metadata": {},
     "output_type": "execute_result"
    }
   ],
   "source": [
    "df1.var()"
   ]
  },
  {
   "cell_type": "code",
   "execution_count": 18,
   "metadata": {
    "collapsed": false
   },
   "outputs": [
    {
     "data": {
      "text/plain": [
       "<matplotlib.lines.Line2D at 0x1115b7550>"
      ]
     },
     "execution_count": 18,
     "metadata": {},
     "output_type": "execute_result"
    },
    {
     "data": {
      "image/png": "[encoded data removed]",
      "text/plain": [
       "<matplotlib.figure.Figure at 0x111596b70>"
      ]
     },
     "metadata": {},
     "output_type": "display_data"
    }
   ],
   "source": [
    "import pandas as pd\n",
    "import numpy as np\n",
    "import pandas as pd\n",
    "from scipy import stats, integrate\n",
    "import seaborn as sns\n",
    "import matplotlib.pyplot as plt\n",
    "import os\n",
    "import warnings\n",
    "warnings.filterwarnings(\"ignore\")\n",
    "cwd = os.getcwd()\n",
    "cwd\n",
    "os.chdir('/Users/luizbezerra/Desktop/excel')\n",
    "os.listdir('.')\n",
    "file = 'beta.xlsx'\n",
    "xl = pd.ExcelFile(file)\n",
    "df1 = xl.parse('Sheet1')\n",
    "sns.set(color_codes=True)\n",
    "np.random.seed(sum(map(ord, \"distributions\")))\n",
    "names = df1.columns.values\n",
    "for i in range(0,5,1): \n",
    "    x = df1[[i]]\n",
    "    x = np.array(x)      \n",
    "    x = x.flatten()           \n",
    "    #sns.kdeplot(x, bw=.05, label=names[i])\n",
    "    sns.distplot(x, hist = False, label=names[i]);\n",
    "\n",
    "plt.axvline(x=0.85)"
   ]
  },
  {
   "cell_type": "code",
   "execution_count": null,
   "metadata": {
    "collapsed": true
   },
   "outputs": [],
   "source": []
  }
 ],
 "metadata": {
  "kernelspec": {
   "display_name": "Python 3",
   "language": "python",
   "name": "python3"
  },
  "language_info": {
   "codemirror_mode": {
    "name": "ipython",
    "version": 3
   },
   "file_extension": ".py",
   "mimetype": "text/x-python",
   "name": "python",
   "nbconvert_exporter": "python",
   "pygments_lexer": "ipython3",
   "version": "3.6.0"
  }
 },
 "nbformat": 4,
 "nbformat_minor": 2
}
