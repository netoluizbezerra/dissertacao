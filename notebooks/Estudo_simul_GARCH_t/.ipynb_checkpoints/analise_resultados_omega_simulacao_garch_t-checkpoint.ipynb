{
 "cells": [
  {
   "cell_type": "code",
   "execution_count": 1,
   "metadata": {
    "collapsed": true
   },
   "outputs": [],
   "source": [
    "#Importando dados excel\n",
    "import os\n",
    "cwd = os.getcwd()\n",
    "cwd\n",
    "os.chdir('/Users/luizbezerra/Desktop/git/notebooks/')"
   ]
  },
  {
   "cell_type": "code",
   "execution_count": 2,
   "metadata": {
    "collapsed": false
   },
   "outputs": [],
   "source": [
    "import pandas as pd\n",
    "file = 'estudo_simulacao_garch_t.xlsx'\n",
    "xl = pd.ExcelFile(file)\n",
    "df1 = xl.parse('omega')"
   ]
  },
  {
   "cell_type": "code",
   "execution_count": 3,
   "metadata": {
    "collapsed": false
   },
   "outputs": [
    {
     "data": {
      "text/html": [
       "<div>\n",
       "<table border=\"1\" class=\"dataframe\">\n",
       "  <thead>\n",
       "    <tr style=\"text-align: right;\">\n",
       "      <th></th>\n",
       "      <th>$\\omega$ Garch(n)</th>\n",
       "      <th>$\\omega$ Garch(t)</th>\n",
       "      <th>$\\omega$ Gas(n)</th>\n",
       "      <th>$\\omega$ Gas(t)</th>\n",
       "      <th>$\\omega$ Gas(k-n)</th>\n",
       "      <th>$\\omega$ Gas(k-t)</th>\n",
       "    </tr>\n",
       "  </thead>\n",
       "  <tbody>\n",
       "    <tr>\n",
       "      <th>0</th>\n",
       "      <td>3.403047</td>\n",
       "      <td>2.201232</td>\n",
       "      <td>3.669990</td>\n",
       "      <td>3.151994</td>\n",
       "      <td>3.509215</td>\n",
       "      <td>2.077434</td>\n",
       "    </tr>\n",
       "    <tr>\n",
       "      <th>1</th>\n",
       "      <td>1.537295</td>\n",
       "      <td>1.865512</td>\n",
       "      <td>3.477836</td>\n",
       "      <td>3.002833</td>\n",
       "      <td>3.290481</td>\n",
       "      <td>1.396401</td>\n",
       "    </tr>\n",
       "    <tr>\n",
       "      <th>2</th>\n",
       "      <td>2.252843</td>\n",
       "      <td>2.239452</td>\n",
       "      <td>3.682553</td>\n",
       "      <td>3.176650</td>\n",
       "      <td>3.578154</td>\n",
       "      <td>1.212968</td>\n",
       "    </tr>\n",
       "    <tr>\n",
       "      <th>3</th>\n",
       "      <td>4.129582</td>\n",
       "      <td>2.976500</td>\n",
       "      <td>3.642251</td>\n",
       "      <td>3.200598</td>\n",
       "      <td>3.413877</td>\n",
       "      <td>1.864064</td>\n",
       "    </tr>\n",
       "    <tr>\n",
       "      <th>4</th>\n",
       "      <td>0.524826</td>\n",
       "      <td>0.586424</td>\n",
       "      <td>3.355525</td>\n",
       "      <td>2.928751</td>\n",
       "      <td>3.076980</td>\n",
       "      <td>1.595203</td>\n",
       "    </tr>\n",
       "    <tr>\n",
       "      <th>5</th>\n",
       "      <td>1.773180</td>\n",
       "      <td>1.803403</td>\n",
       "      <td>3.378283</td>\n",
       "      <td>2.981495</td>\n",
       "      <td>3.115142</td>\n",
       "      <td>2.029805</td>\n",
       "    </tr>\n",
       "    <tr>\n",
       "      <th>6</th>\n",
       "      <td>2.163849</td>\n",
       "      <td>1.879426</td>\n",
       "      <td>3.572785</td>\n",
       "      <td>3.008388</td>\n",
       "      <td>3.286367</td>\n",
       "      <td>1.277671</td>\n",
       "    </tr>\n",
       "    <tr>\n",
       "      <th>7</th>\n",
       "      <td>2.237975</td>\n",
       "      <td>2.384442</td>\n",
       "      <td>3.507439</td>\n",
       "      <td>3.006678</td>\n",
       "      <td>3.269356</td>\n",
       "      <td>1.767993</td>\n",
       "    </tr>\n",
       "    <tr>\n",
       "      <th>8</th>\n",
       "      <td>2.720797</td>\n",
       "      <td>2.058732</td>\n",
       "      <td>3.584915</td>\n",
       "      <td>3.077492</td>\n",
       "      <td>3.374702</td>\n",
       "      <td>1.490963</td>\n",
       "    </tr>\n",
       "    <tr>\n",
       "      <th>9</th>\n",
       "      <td>1.831679</td>\n",
       "      <td>2.220284</td>\n",
       "      <td>3.774898</td>\n",
       "      <td>3.127687</td>\n",
       "      <td>3.925163</td>\n",
       "      <td>1.893366</td>\n",
       "    </tr>\n",
       "    <tr>\n",
       "      <th>10</th>\n",
       "      <td>3.408430</td>\n",
       "      <td>2.129738</td>\n",
       "      <td>3.431295</td>\n",
       "      <td>2.965675</td>\n",
       "      <td>3.194534</td>\n",
       "      <td>2.528965</td>\n",
       "    </tr>\n",
       "    <tr>\n",
       "      <th>11</th>\n",
       "      <td>1.004263</td>\n",
       "      <td>1.076858</td>\n",
       "      <td>3.422871</td>\n",
       "      <td>3.021291</td>\n",
       "      <td>3.211860</td>\n",
       "      <td>1.277501</td>\n",
       "    </tr>\n",
       "    <tr>\n",
       "      <th>12</th>\n",
       "      <td>3.827163</td>\n",
       "      <td>2.490900</td>\n",
       "      <td>3.406084</td>\n",
       "      <td>2.934605</td>\n",
       "      <td>3.208932</td>\n",
       "      <td>2.008660</td>\n",
       "    </tr>\n",
       "    <tr>\n",
       "      <th>13</th>\n",
       "      <td>3.629439</td>\n",
       "      <td>3.014573</td>\n",
       "      <td>3.649691</td>\n",
       "      <td>3.195257</td>\n",
       "      <td>3.460723</td>\n",
       "      <td>2.144421</td>\n",
       "    </tr>\n",
       "    <tr>\n",
       "      <th>14</th>\n",
       "      <td>2.606043</td>\n",
       "      <td>3.312215</td>\n",
       "      <td>3.672740</td>\n",
       "      <td>3.073857</td>\n",
       "      <td>3.391711</td>\n",
       "      <td>2.018923</td>\n",
       "    </tr>\n",
       "  </tbody>\n",
       "</table>\n",
       "</div>"
      ],
      "text/plain": [
       "    $\\omega$ Garch(n)  $\\omega$ Garch(t)  $\\omega$ Gas(n)  $\\omega$ Gas(t)  \\\n",
       "0            3.403047           2.201232         3.669990         3.151994   \n",
       "1            1.537295           1.865512         3.477836         3.002833   \n",
       "2            2.252843           2.239452         3.682553         3.176650   \n",
       "3            4.129582           2.976500         3.642251         3.200598   \n",
       "4            0.524826           0.586424         3.355525         2.928751   \n",
       "5            1.773180           1.803403         3.378283         2.981495   \n",
       "6            2.163849           1.879426         3.572785         3.008388   \n",
       "7            2.237975           2.384442         3.507439         3.006678   \n",
       "8            2.720797           2.058732         3.584915         3.077492   \n",
       "9            1.831679           2.220284         3.774898         3.127687   \n",
       "10           3.408430           2.129738         3.431295         2.965675   \n",
       "11           1.004263           1.076858         3.422871         3.021291   \n",
       "12           3.827163           2.490900         3.406084         2.934605   \n",
       "13           3.629439           3.014573         3.649691         3.195257   \n",
       "14           2.606043           3.312215         3.672740         3.073857   \n",
       "\n",
       "    $\\omega$ Gas(k-n)  $\\omega$ Gas(k-t)  \n",
       "0            3.509215           2.077434  \n",
       "1            3.290481           1.396401  \n",
       "2            3.578154           1.212968  \n",
       "3            3.413877           1.864064  \n",
       "4            3.076980           1.595203  \n",
       "5            3.115142           2.029805  \n",
       "6            3.286367           1.277671  \n",
       "7            3.269356           1.767993  \n",
       "8            3.374702           1.490963  \n",
       "9            3.925163           1.893366  \n",
       "10           3.194534           2.528965  \n",
       "11           3.211860           1.277501  \n",
       "12           3.208932           2.008660  \n",
       "13           3.460723           2.144421  \n",
       "14           3.391711           2.018923  "
      ]
     },
     "execution_count": 3,
     "metadata": {},
     "output_type": "execute_result"
    }
   ],
   "source": [
    "df1.head(15)"
   ]
  },
  {
   "cell_type": "code",
   "execution_count": 4,
   "metadata": {
    "collapsed": false
   },
   "outputs": [
    {
     "data": {
      "text/plain": [
       "$\\omega$ Garch(n)    2.209004\n",
       "$\\omega$ Garch(t)    2.140455\n",
       "$\\omega$ Gas(n)      3.507529\n",
       "$\\omega$ Gas(t)      3.049219\n",
       "$\\omega$ Gas(k-n)    3.303059\n",
       "$\\omega$ Gas(k-t)    1.788885\n",
       "dtype: float64"
      ]
     },
     "execution_count": 4,
     "metadata": {},
     "output_type": "execute_result"
    }
   ],
   "source": [
    "df1.mean()"
   ]
  },
  {
   "cell_type": "code",
   "execution_count": 5,
   "metadata": {
    "collapsed": false
   },
   "outputs": [
    {
     "data": {
      "text/plain": [
       "$\\omega$ Garch(n)    0.719857\n",
       "$\\omega$ Garch(t)    0.405192\n",
       "$\\omega$ Gas(n)      0.016407\n",
       "$\\omega$ Gas(t)      0.011395\n",
       "$\\omega$ Gas(k-n)    0.031276\n",
       "$\\omega$ Gas(k-t)    0.135425\n",
       "dtype: float64"
      ]
     },
     "execution_count": 5,
     "metadata": {},
     "output_type": "execute_result"
    }
   ],
   "source": [
    "df1.var()"
   ]
  },
  {
   "cell_type": "code",
   "execution_count": 6,
   "metadata": {
    "collapsed": false
   },
   "outputs": [
    {
     "data": {
      "image/png": "[encoded data removed]",
      "text/plain": [
       "<matplotlib.figure.Figure at 0x1181e4128>"
      ]
     },
     "metadata": {},
     "output_type": "display_data"
    }
   ],
   "source": [
    "import pandas as pd\n",
    "import numpy as np\n",
    "import pandas as pd\n",
    "from scipy import stats, integrate\n",
    "import seaborn as sns\n",
    "import matplotlib.pyplot as plt\n",
    "import os\n",
    "import warnings\n",
    "\n",
    "sns.set(color_codes=True)\n",
    "np.random.seed(sum(map(ord, \"distributions\")))\n",
    "names = df1.columns.values\n",
    "df1.plot(kind=\"kde\",legend = True, figsize = (20,10))\n",
    "plt.axvline(2, ls = 'dashed')\n",
    "plt.show()\n",
    "#for i in range(0,6,1): \n",
    "    #x = df1[[i]]\n",
    "    #x = np.array(x)      \n",
    "    #x = x.flatten()           \n",
    "    #sns.kdeplot(x, bw=.05, label=names[i])\n",
    "    #sns.distplot(x, hist = False, label=names[i]);\n",
    "#plt.axvline(x=0.85)\n",
    "\n"
   ]
  },
  {
   "cell_type": "code",
   "execution_count": 7,
   "metadata": {
    "collapsed": false
   },
   "outputs": [],
   "source": [
    "from sklearn.metrics import mean_squared_error\n",
    "from math import sqrt"
   ]
  },
  {
   "cell_type": "code",
   "execution_count": 8,
   "metadata": {
    "collapsed": true
   },
   "outputs": [],
   "source": [
    "d = ({})\n",
    "names = df1.columns.values\n",
    "for i in range(0,6,1): \n",
    "    x = df1[[i]]\n",
    "    x = np.array(x)      \n",
    "    x = x.flatten()\n",
    "    rms = sqrt(mean_squared_error(np.repeat(2, len(x)), x))\n",
    "    d.update({names[i]: rms})"
   ]
  },
  {
   "cell_type": "code",
   "execution_count": 9,
   "metadata": {
    "collapsed": false
   },
   "outputs": [
    {
     "data": {
      "text/html": [
       "<div>\n",
       "<table border=\"1\" class=\"dataframe\">\n",
       "  <thead>\n",
       "    <tr style=\"text-align: right;\">\n",
       "      <th></th>\n",
       "      <th>$\\omega$ Garch(n)</th>\n",
       "      <th>$\\omega$ Garch(t)</th>\n",
       "      <th>$\\omega$ Gas(k-n)</th>\n",
       "      <th>$\\omega$ Gas(k-t)</th>\n",
       "      <th>$\\omega$ Gas(n)</th>\n",
       "      <th>$\\omega$ Gas(t)</th>\n",
       "    </tr>\n",
       "  </thead>\n",
       "  <tbody>\n",
       "    <tr>\n",
       "      <th>RMSE</th>\n",
       "      <td>0.873057</td>\n",
       "      <td>0.651292</td>\n",
       "      <td>1.314984</td>\n",
       "      <td>0.423967</td>\n",
       "      <td>1.512952</td>\n",
       "      <td>1.054626</td>\n",
       "    </tr>\n",
       "  </tbody>\n",
       "</table>\n",
       "</div>"
      ],
      "text/plain": [
       "      $\\omega$ Garch(n)  $\\omega$ Garch(t)  $\\omega$ Gas(k-n)  \\\n",
       "RMSE           0.873057           0.651292           1.314984   \n",
       "\n",
       "      $\\omega$ Gas(k-t)  $\\omega$ Gas(n)  $\\omega$ Gas(t)  \n",
       "RMSE           0.423967         1.512952         1.054626  "
      ]
     },
     "execution_count": 9,
     "metadata": {},
     "output_type": "execute_result"
    }
   ],
   "source": [
    "df = pd.DataFrame(d, index=['RMSE'])\n",
    "df"
   ]
  }
 ],
 "metadata": {
  "kernelspec": {
   "display_name": "Python 3",
   "language": "python",
   "name": "python3"
  },
  "language_info": {
   "codemirror_mode": {
    "name": "ipython",
    "version": 3
   },
   "file_extension": ".py",
   "mimetype": "text/x-python",
   "name": "python",
   "nbconvert_exporter": "python",
   "pygments_lexer": "ipython3",
   "version": "3.6.0"
  }
 },
 "nbformat": 4,
 "nbformat_minor": 2
}
