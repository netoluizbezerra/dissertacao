{
 "cells": [
  {
   "cell_type": "code",
   "execution_count": 1,
   "metadata": {
    "collapsed": true
   },
   "outputs": [],
   "source": [
    "#Importando dados excel\n",
    "import os\n",
    "cwd = os.getcwd()\n",
    "cwd\n",
    "os.chdir('/Users/luizbezerra/Desktop/git/notebooks/')"
   ]
  },
  {
   "cell_type": "code",
   "execution_count": 2,
   "metadata": {
    "collapsed": false
   },
   "outputs": [],
   "source": [
    "import pandas as pd\n",
    "file = 'estudo_simulacao_garch_st.xlsx'\n",
    "xl = pd.ExcelFile(file)\n",
    "df1 = xl.parse('omega')"
   ]
  },
  {
   "cell_type": "code",
   "execution_count": 3,
   "metadata": {
    "collapsed": false
   },
   "outputs": [
    {
     "data": {
      "text/html": [
       "<div>\n",
       "<table border=\"1\" class=\"dataframe\">\n",
       "  <thead>\n",
       "    <tr style=\"text-align: right;\">\n",
       "      <th></th>\n",
       "      <th>$\\omega$ Garch(n)</th>\n",
       "      <th>$\\omega$ Garch(t)</th>\n",
       "      <th>$\\omega$ Garch(st)</th>\n",
       "      <th>$\\omega$ Gas(n)</th>\n",
       "      <th>$\\omega$ Gas(t)</th>\n",
       "      <th>$\\omega$ Gas(k-n)</th>\n",
       "      <th>$\\omega$ Gas(k-t)</th>\n",
       "    </tr>\n",
       "  </thead>\n",
       "  <tbody>\n",
       "    <tr>\n",
       "      <th>0</th>\n",
       "      <td>1.926425</td>\n",
       "      <td>2.232696</td>\n",
       "      <td>2.412563</td>\n",
       "      <td>3.435037</td>\n",
       "      <td>2.850051</td>\n",
       "      <td>3.207958</td>\n",
       "      <td>2.100080</td>\n",
       "    </tr>\n",
       "    <tr>\n",
       "      <th>1</th>\n",
       "      <td>1.411780</td>\n",
       "      <td>2.017008</td>\n",
       "      <td>2.011055</td>\n",
       "      <td>3.421231</td>\n",
       "      <td>2.867386</td>\n",
       "      <td>3.292142</td>\n",
       "      <td>1.693346</td>\n",
       "    </tr>\n",
       "    <tr>\n",
       "      <th>2</th>\n",
       "      <td>1.892917</td>\n",
       "      <td>2.623023</td>\n",
       "      <td>2.438443</td>\n",
       "      <td>3.474305</td>\n",
       "      <td>3.052820</td>\n",
       "      <td>3.226854</td>\n",
       "      <td>1.740863</td>\n",
       "    </tr>\n",
       "    <tr>\n",
       "      <th>3</th>\n",
       "      <td>2.079057</td>\n",
       "      <td>2.767353</td>\n",
       "      <td>2.428557</td>\n",
       "      <td>3.639065</td>\n",
       "      <td>3.072533</td>\n",
       "      <td>3.456217</td>\n",
       "      <td>1.443190</td>\n",
       "    </tr>\n",
       "    <tr>\n",
       "      <th>4</th>\n",
       "      <td>3.226440</td>\n",
       "      <td>3.594388</td>\n",
       "      <td>3.520918</td>\n",
       "      <td>3.484825</td>\n",
       "      <td>3.032218</td>\n",
       "      <td>3.208019</td>\n",
       "      <td>2.375117</td>\n",
       "    </tr>\n",
       "    <tr>\n",
       "      <th>5</th>\n",
       "      <td>1.042798</td>\n",
       "      <td>0.846233</td>\n",
       "      <td>1.093978</td>\n",
       "      <td>3.338494</td>\n",
       "      <td>2.942545</td>\n",
       "      <td>3.119908</td>\n",
       "      <td>1.923126</td>\n",
       "    </tr>\n",
       "    <tr>\n",
       "      <th>6</th>\n",
       "      <td>4.303336</td>\n",
       "      <td>2.230473</td>\n",
       "      <td>1.993462</td>\n",
       "      <td>3.658806</td>\n",
       "      <td>3.139047</td>\n",
       "      <td>3.586441</td>\n",
       "      <td>1.289937</td>\n",
       "    </tr>\n",
       "    <tr>\n",
       "      <th>7</th>\n",
       "      <td>1.310048</td>\n",
       "      <td>1.810941</td>\n",
       "      <td>1.864044</td>\n",
       "      <td>3.584808</td>\n",
       "      <td>3.107631</td>\n",
       "      <td>3.366155</td>\n",
       "      <td>1.509922</td>\n",
       "    </tr>\n",
       "    <tr>\n",
       "      <th>8</th>\n",
       "      <td>1.304909</td>\n",
       "      <td>2.340961</td>\n",
       "      <td>2.438258</td>\n",
       "      <td>3.452488</td>\n",
       "      <td>2.961874</td>\n",
       "      <td>3.421951</td>\n",
       "      <td>1.649339</td>\n",
       "    </tr>\n",
       "    <tr>\n",
       "      <th>9</th>\n",
       "      <td>1.046027</td>\n",
       "      <td>1.610090</td>\n",
       "      <td>1.548971</td>\n",
       "      <td>3.541317</td>\n",
       "      <td>3.118858</td>\n",
       "      <td>3.562783</td>\n",
       "      <td>1.589652</td>\n",
       "    </tr>\n",
       "    <tr>\n",
       "      <th>10</th>\n",
       "      <td>1.328670</td>\n",
       "      <td>1.415200</td>\n",
       "      <td>1.758850</td>\n",
       "      <td>3.524880</td>\n",
       "      <td>3.087904</td>\n",
       "      <td>2.855380</td>\n",
       "      <td>1.183860</td>\n",
       "    </tr>\n",
       "    <tr>\n",
       "      <th>11</th>\n",
       "      <td>2.089427</td>\n",
       "      <td>1.963982</td>\n",
       "      <td>1.953100</td>\n",
       "      <td>3.600244</td>\n",
       "      <td>3.107926</td>\n",
       "      <td>3.431560</td>\n",
       "      <td>1.657033</td>\n",
       "    </tr>\n",
       "    <tr>\n",
       "      <th>12</th>\n",
       "      <td>2.109022</td>\n",
       "      <td>1.454362</td>\n",
       "      <td>1.449124</td>\n",
       "      <td>3.633560</td>\n",
       "      <td>3.024452</td>\n",
       "      <td>3.603323</td>\n",
       "      <td>1.434119</td>\n",
       "    </tr>\n",
       "    <tr>\n",
       "      <th>13</th>\n",
       "      <td>1.497147</td>\n",
       "      <td>1.667516</td>\n",
       "      <td>1.658563</td>\n",
       "      <td>3.497990</td>\n",
       "      <td>3.194591</td>\n",
       "      <td>3.246097</td>\n",
       "      <td>1.071539</td>\n",
       "    </tr>\n",
       "    <tr>\n",
       "      <th>14</th>\n",
       "      <td>3.836066</td>\n",
       "      <td>3.008133</td>\n",
       "      <td>2.889227</td>\n",
       "      <td>3.675709</td>\n",
       "      <td>2.985504</td>\n",
       "      <td>3.534294</td>\n",
       "      <td>2.245242</td>\n",
       "    </tr>\n",
       "  </tbody>\n",
       "</table>\n",
       "</div>"
      ],
      "text/plain": [
       "    $\\omega$ Garch(n)  $\\omega$ Garch(t)  $\\omega$ Garch(st)  $\\omega$ Gas(n)  \\\n",
       "0            1.926425           2.232696            2.412563         3.435037   \n",
       "1            1.411780           2.017008            2.011055         3.421231   \n",
       "2            1.892917           2.623023            2.438443         3.474305   \n",
       "3            2.079057           2.767353            2.428557         3.639065   \n",
       "4            3.226440           3.594388            3.520918         3.484825   \n",
       "5            1.042798           0.846233            1.093978         3.338494   \n",
       "6            4.303336           2.230473            1.993462         3.658806   \n",
       "7            1.310048           1.810941            1.864044         3.584808   \n",
       "8            1.304909           2.340961            2.438258         3.452488   \n",
       "9            1.046027           1.610090            1.548971         3.541317   \n",
       "10           1.328670           1.415200            1.758850         3.524880   \n",
       "11           2.089427           1.963982            1.953100         3.600244   \n",
       "12           2.109022           1.454362            1.449124         3.633560   \n",
       "13           1.497147           1.667516            1.658563         3.497990   \n",
       "14           3.836066           3.008133            2.889227         3.675709   \n",
       "\n",
       "    $\\omega$ Gas(t)  $\\omega$ Gas(k-n)  $\\omega$ Gas(k-t)  \n",
       "0          2.850051           3.207958           2.100080  \n",
       "1          2.867386           3.292142           1.693346  \n",
       "2          3.052820           3.226854           1.740863  \n",
       "3          3.072533           3.456217           1.443190  \n",
       "4          3.032218           3.208019           2.375117  \n",
       "5          2.942545           3.119908           1.923126  \n",
       "6          3.139047           3.586441           1.289937  \n",
       "7          3.107631           3.366155           1.509922  \n",
       "8          2.961874           3.421951           1.649339  \n",
       "9          3.118858           3.562783           1.589652  \n",
       "10         3.087904           2.855380           1.183860  \n",
       "11         3.107926           3.431560           1.657033  \n",
       "12         3.024452           3.603323           1.434119  \n",
       "13         3.194591           3.246097           1.071539  \n",
       "14         2.985504           3.534294           2.245242  "
      ]
     },
     "execution_count": 3,
     "metadata": {},
     "output_type": "execute_result"
    }
   ],
   "source": [
    "df1.head(15)"
   ]
  },
  {
   "cell_type": "code",
   "execution_count": 4,
   "metadata": {
    "collapsed": false
   },
   "outputs": [
    {
     "data": {
      "text/plain": [
       "$\\omega$ Garch(n)     2.234322\n",
       "$\\omega$ Garch(t)     2.102776\n",
       "$\\omega$ Garch(st)    2.112175\n",
       "$\\omega$ Gas(n)       3.505663\n",
       "$\\omega$ Gas(t)       3.022079\n",
       "$\\omega$ Gas(k-n)     3.310140\n",
       "$\\omega$ Gas(k-t)     1.777651\n",
       "dtype: float64"
      ]
     },
     "execution_count": 4,
     "metadata": {},
     "output_type": "execute_result"
    }
   ],
   "source": [
    "df1.mean()"
   ]
  },
  {
   "cell_type": "code",
   "execution_count": 5,
   "metadata": {
    "collapsed": false
   },
   "outputs": [
    {
     "data": {
      "text/plain": [
       "$\\omega$ Garch(n)     0.817861\n",
       "$\\omega$ Garch(t)     0.356855\n",
       "$\\omega$ Garch(st)    0.328983\n",
       "$\\omega$ Gas(n)       0.014437\n",
       "$\\omega$ Gas(t)       0.010149\n",
       "$\\omega$ Gas(k-n)     0.036991\n",
       "$\\omega$ Gas(k-t)     0.130224\n",
       "dtype: float64"
      ]
     },
     "execution_count": 5,
     "metadata": {},
     "output_type": "execute_result"
    }
   ],
   "source": [
    "df1.var()"
   ]
  },
  {
   "cell_type": "code",
   "execution_count": 6,
   "metadata": {
    "collapsed": false
   },
   "outputs": [
    {
     "data": {
      "image/png": "[encoded data removed]",
      "text/plain": [
       "<matplotlib.figure.Figure at 0x111d4ae48>"
      ]
     },
     "metadata": {},
     "output_type": "display_data"
    }
   ],
   "source": [
    "import pandas as pd\n",
    "import numpy as np\n",
    "import pandas as pd\n",
    "from scipy import stats, integrate\n",
    "import seaborn as sns\n",
    "import matplotlib.pyplot as plt\n",
    "import os\n",
    "import warnings\n",
    "\n",
    "sns.set(color_codes=True)\n",
    "np.random.seed(sum(map(ord, \"distributions\")))\n",
    "names = df1.columns.values\n",
    "df1.plot(kind=\"kde\",legend = True, figsize = (20,10))\n",
    "plt.axvline(2, ls = 'dashed')\n",
    "plt.show()\n",
    "#for i in range(0,6,1): \n",
    "    #x = df1[[i]]\n",
    "    #x = np.array(x)      \n",
    "    #x = x.flatten()           \n",
    "    #sns.kdeplot(x, bw=.05, label=names[i])\n",
    "    #sns.distplot(x, hist = False, label=names[i]);\n",
    "#plt.axvline(x=0.85)\n",
    "\n"
   ]
  },
  {
   "cell_type": "code",
   "execution_count": 7,
   "metadata": {
    "collapsed": false
   },
   "outputs": [],
   "source": [
    "from sklearn.metrics import mean_squared_error\n",
    "from math import sqrt"
   ]
  },
  {
   "cell_type": "code",
   "execution_count": 8,
   "metadata": {
    "collapsed": false
   },
   "outputs": [],
   "source": [
    "d = ({})\n",
    "names = df1.columns.values\n",
    "for i in range(0,7,1): \n",
    "    x = df1[[i]]\n",
    "    x = np.array(x)      \n",
    "    x = x.flatten()\n",
    "    rms = sqrt(mean_squared_error(np.repeat(2, len(x)), x))\n",
    "    d.update({names[i]: rms})"
   ]
  },
  {
   "cell_type": "code",
   "execution_count": 9,
   "metadata": {
    "collapsed": false
   },
   "outputs": [
    {
     "data": {
      "text/html": [
       "<div>\n",
       "<table border=\"1\" class=\"dataframe\">\n",
       "  <thead>\n",
       "    <tr style=\"text-align: right;\">\n",
       "      <th></th>\n",
       "      <th>$\\omega$ Garch(n)</th>\n",
       "      <th>$\\omega$ Garch(st)</th>\n",
       "      <th>$\\omega$ Garch(t)</th>\n",
       "      <th>$\\omega$ Gas(k-n)</th>\n",
       "      <th>$\\omega$ Gas(k-t)</th>\n",
       "      <th>$\\omega$ Gas(n)</th>\n",
       "      <th>$\\omega$ Gas(t)</th>\n",
       "    </tr>\n",
       "  </thead>\n",
       "  <tbody>\n",
       "    <tr>\n",
       "      <th>RMSE</th>\n",
       "      <td>0.933336</td>\n",
       "      <td>0.583868</td>\n",
       "      <td>0.605555</td>\n",
       "      <td>1.324154</td>\n",
       "      <td>0.423556</td>\n",
       "      <td>1.51044</td>\n",
       "      <td>1.027022</td>\n",
       "    </tr>\n",
       "  </tbody>\n",
       "</table>\n",
       "</div>"
      ],
      "text/plain": [
       "      $\\omega$ Garch(n)  $\\omega$ Garch(st)  $\\omega$ Garch(t)  \\\n",
       "RMSE           0.933336            0.583868           0.605555   \n",
       "\n",
       "      $\\omega$ Gas(k-n)  $\\omega$ Gas(k-t)  $\\omega$ Gas(n)  $\\omega$ Gas(t)  \n",
       "RMSE           1.324154           0.423556          1.51044         1.027022  "
      ]
     },
     "execution_count": 9,
     "metadata": {},
     "output_type": "execute_result"
    }
   ],
   "source": [
    "df = pd.DataFrame(d, index=['RMSE'])\n",
    "df"
   ]
  }
 ],
 "metadata": {
  "kernelspec": {
   "display_name": "Python 3",
   "language": "python",
   "name": "python3"
  },
  "language_info": {
   "codemirror_mode": {
    "name": "ipython",
    "version": 3
   },
   "file_extension": ".py",
   "mimetype": "text/x-python",
   "name": "python",
   "nbconvert_exporter": "python",
   "pygments_lexer": "ipython3",
   "version": "3.6.0"
  }
 },
 "nbformat": 4,
 "nbformat_minor": 2
}
