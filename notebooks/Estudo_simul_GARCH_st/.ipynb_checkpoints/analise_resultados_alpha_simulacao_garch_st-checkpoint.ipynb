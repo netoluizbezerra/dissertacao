{
 "cells": [
  {
   "cell_type": "code",
   "execution_count": 1,
   "metadata": {
    "collapsed": true
   },
   "outputs": [],
   "source": [
    "#Importando dados excel\n",
    "import os\n",
    "cwd = os.getcwd()\n",
    "cwd\n",
    "os.chdir('/Users/luizbezerra/Desktop/git/notebooks/')"
   ]
  },
  {
   "cell_type": "code",
   "execution_count": 3,
   "metadata": {
    "collapsed": false
   },
   "outputs": [],
   "source": [
    "import pandas as pd\n",
    "file = 'estudo_simulacao_garch_st.xlsx'\n",
    "xl = pd.ExcelFile(file)\n",
    "df1 = xl.parse('Alpha')"
   ]
  },
  {
   "cell_type": "code",
   "execution_count": 4,
   "metadata": {
    "collapsed": false
   },
   "outputs": [
    {
     "data": {
      "text/html": [
       "<div>\n",
       "<table border=\"1\" class=\"dataframe\">\n",
       "  <thead>\n",
       "    <tr style=\"text-align: right;\">\n",
       "      <th></th>\n",
       "      <th>alpha</th>\n",
       "      <th>alpha.garch.t</th>\n",
       "      <th>alpha.garch.st</th>\n",
       "      <th>alpha.gas</th>\n",
       "      <th>alpha.gas.t</th>\n",
       "      <th>alpha.gas.sp</th>\n",
       "      <th>alpha.gas.st</th>\n",
       "      <th>omega.gas.st</th>\n",
       "    </tr>\n",
       "  </thead>\n",
       "  <tbody>\n",
       "    <tr>\n",
       "      <th>0</th>\n",
       "      <td>0.042540</td>\n",
       "      <td>0.055696</td>\n",
       "      <td>0.065797</td>\n",
       "      <td>0.025857</td>\n",
       "      <td>0.048859</td>\n",
       "      <td>0.057232</td>\n",
       "      <td>0.044353</td>\n",
       "      <td>2.100080</td>\n",
       "    </tr>\n",
       "    <tr>\n",
       "      <th>1</th>\n",
       "      <td>0.066167</td>\n",
       "      <td>0.094595</td>\n",
       "      <td>0.099896</td>\n",
       "      <td>0.039026</td>\n",
       "      <td>0.078897</td>\n",
       "      <td>0.067282</td>\n",
       "      <td>0.086474</td>\n",
       "      <td>1.693346</td>\n",
       "    </tr>\n",
       "    <tr>\n",
       "      <th>2</th>\n",
       "      <td>0.097132</td>\n",
       "      <td>0.111376</td>\n",
       "      <td>0.109059</td>\n",
       "      <td>0.068404</td>\n",
       "      <td>0.089119</td>\n",
       "      <td>0.095375</td>\n",
       "      <td>0.098175</td>\n",
       "      <td>1.740863</td>\n",
       "    </tr>\n",
       "    <tr>\n",
       "      <th>3</th>\n",
       "      <td>0.119139</td>\n",
       "      <td>0.135288</td>\n",
       "      <td>0.129149</td>\n",
       "      <td>0.073182</td>\n",
       "      <td>0.105787</td>\n",
       "      <td>0.125099</td>\n",
       "      <td>0.114618</td>\n",
       "      <td>1.443190</td>\n",
       "    </tr>\n",
       "    <tr>\n",
       "      <th>4</th>\n",
       "      <td>0.083128</td>\n",
       "      <td>0.089121</td>\n",
       "      <td>0.088161</td>\n",
       "      <td>0.063770</td>\n",
       "      <td>0.066707</td>\n",
       "      <td>0.084928</td>\n",
       "      <td>0.071236</td>\n",
       "      <td>2.375117</td>\n",
       "    </tr>\n",
       "    <tr>\n",
       "      <th>5</th>\n",
       "      <td>0.056746</td>\n",
       "      <td>0.055974</td>\n",
       "      <td>0.068121</td>\n",
       "      <td>0.047045</td>\n",
       "      <td>0.050254</td>\n",
       "      <td>0.065042</td>\n",
       "      <td>0.062310</td>\n",
       "      <td>1.923126</td>\n",
       "    </tr>\n",
       "    <tr>\n",
       "      <th>6</th>\n",
       "      <td>0.143320</td>\n",
       "      <td>0.123296</td>\n",
       "      <td>0.112861</td>\n",
       "      <td>0.036959</td>\n",
       "      <td>0.099123</td>\n",
       "      <td>0.059452</td>\n",
       "      <td>0.097385</td>\n",
       "      <td>1.289937</td>\n",
       "    </tr>\n",
       "    <tr>\n",
       "      <th>7</th>\n",
       "      <td>0.094009</td>\n",
       "      <td>0.114641</td>\n",
       "      <td>0.111297</td>\n",
       "      <td>0.069624</td>\n",
       "      <td>0.091720</td>\n",
       "      <td>0.096200</td>\n",
       "      <td>0.088418</td>\n",
       "      <td>1.509922</td>\n",
       "    </tr>\n",
       "    <tr>\n",
       "      <th>8</th>\n",
       "      <td>0.106869</td>\n",
       "      <td>0.117775</td>\n",
       "      <td>0.113859</td>\n",
       "      <td>0.058255</td>\n",
       "      <td>0.089296</td>\n",
       "      <td>0.097802</td>\n",
       "      <td>0.099201</td>\n",
       "      <td>1.649339</td>\n",
       "    </tr>\n",
       "    <tr>\n",
       "      <th>9</th>\n",
       "      <td>0.092608</td>\n",
       "      <td>0.089524</td>\n",
       "      <td>0.092589</td>\n",
       "      <td>0.056177</td>\n",
       "      <td>0.074626</td>\n",
       "      <td>0.103227</td>\n",
       "      <td>0.079225</td>\n",
       "      <td>1.589652</td>\n",
       "    </tr>\n",
       "    <tr>\n",
       "      <th>10</th>\n",
       "      <td>0.113923</td>\n",
       "      <td>0.102738</td>\n",
       "      <td>0.114497</td>\n",
       "      <td>0.072877</td>\n",
       "      <td>0.084596</td>\n",
       "      <td>0.072012</td>\n",
       "      <td>0.114485</td>\n",
       "      <td>1.183860</td>\n",
       "    </tr>\n",
       "    <tr>\n",
       "      <th>11</th>\n",
       "      <td>0.096818</td>\n",
       "      <td>0.094544</td>\n",
       "      <td>0.097630</td>\n",
       "      <td>0.062268</td>\n",
       "      <td>0.074638</td>\n",
       "      <td>0.123948</td>\n",
       "      <td>0.074540</td>\n",
       "      <td>1.657033</td>\n",
       "    </tr>\n",
       "    <tr>\n",
       "      <th>12</th>\n",
       "      <td>0.097909</td>\n",
       "      <td>0.094195</td>\n",
       "      <td>0.095540</td>\n",
       "      <td>0.066597</td>\n",
       "      <td>0.079457</td>\n",
       "      <td>0.148013</td>\n",
       "      <td>0.079727</td>\n",
       "      <td>1.434119</td>\n",
       "    </tr>\n",
       "    <tr>\n",
       "      <th>13</th>\n",
       "      <td>0.125263</td>\n",
       "      <td>0.119176</td>\n",
       "      <td>0.119974</td>\n",
       "      <td>0.088759</td>\n",
       "      <td>0.098536</td>\n",
       "      <td>0.120671</td>\n",
       "      <td>0.106952</td>\n",
       "      <td>1.071539</td>\n",
       "    </tr>\n",
       "    <tr>\n",
       "      <th>14</th>\n",
       "      <td>0.081389</td>\n",
       "      <td>0.104899</td>\n",
       "      <td>0.110343</td>\n",
       "      <td>0.037138</td>\n",
       "      <td>0.087126</td>\n",
       "      <td>0.101457</td>\n",
       "      <td>0.090141</td>\n",
       "      <td>2.245242</td>\n",
       "    </tr>\n",
       "  </tbody>\n",
       "</table>\n",
       "</div>"
      ],
      "text/plain": [
       "       alpha  alpha.garch.t  alpha.garch.st  alpha.gas  alpha.gas.t  \\\n",
       "0   0.042540       0.055696        0.065797   0.025857     0.048859   \n",
       "1   0.066167       0.094595        0.099896   0.039026     0.078897   \n",
       "2   0.097132       0.111376        0.109059   0.068404     0.089119   \n",
       "3   0.119139       0.135288        0.129149   0.073182     0.105787   \n",
       "4   0.083128       0.089121        0.088161   0.063770     0.066707   \n",
       "5   0.056746       0.055974        0.068121   0.047045     0.050254   \n",
       "6   0.143320       0.123296        0.112861   0.036959     0.099123   \n",
       "7   0.094009       0.114641        0.111297   0.069624     0.091720   \n",
       "8   0.106869       0.117775        0.113859   0.058255     0.089296   \n",
       "9   0.092608       0.089524        0.092589   0.056177     0.074626   \n",
       "10  0.113923       0.102738        0.114497   0.072877     0.084596   \n",
       "11  0.096818       0.094544        0.097630   0.062268     0.074638   \n",
       "12  0.097909       0.094195        0.095540   0.066597     0.079457   \n",
       "13  0.125263       0.119176        0.119974   0.088759     0.098536   \n",
       "14  0.081389       0.104899        0.110343   0.037138     0.087126   \n",
       "\n",
       "    alpha.gas.sp  alpha.gas.st  omega.gas.st  \n",
       "0       0.057232      0.044353      2.100080  \n",
       "1       0.067282      0.086474      1.693346  \n",
       "2       0.095375      0.098175      1.740863  \n",
       "3       0.125099      0.114618      1.443190  \n",
       "4       0.084928      0.071236      2.375117  \n",
       "5       0.065042      0.062310      1.923126  \n",
       "6       0.059452      0.097385      1.289937  \n",
       "7       0.096200      0.088418      1.509922  \n",
       "8       0.097802      0.099201      1.649339  \n",
       "9       0.103227      0.079225      1.589652  \n",
       "10      0.072012      0.114485      1.183860  \n",
       "11      0.123948      0.074540      1.657033  \n",
       "12      0.148013      0.079727      1.434119  \n",
       "13      0.120671      0.106952      1.071539  \n",
       "14      0.101457      0.090141      2.245242  "
      ]
     },
     "execution_count": 4,
     "metadata": {},
     "output_type": "execute_result"
    }
   ],
   "source": [
    "df1.head(15)"
   ]
  },
  {
   "cell_type": "code",
   "execution_count": 5,
   "metadata": {
    "collapsed": false
   },
   "outputs": [
    {
     "data": {
      "text/plain": [
       "alpha             0.102132\n",
       "alpha.garch.t     0.098635\n",
       "alpha.garch.st    0.100388\n",
       "alpha.gas         0.063341\n",
       "alpha.gas.t       0.083591\n",
       "alpha.gas.sp      0.098604\n",
       "alpha.gas.st      0.090303\n",
       "omega.gas.st      1.777651\n",
       "dtype: float64"
      ]
     },
     "execution_count": 5,
     "metadata": {},
     "output_type": "execute_result"
    }
   ],
   "source": [
    "df1.mean()"
   ]
  },
  {
   "cell_type": "code",
   "execution_count": 6,
   "metadata": {
    "collapsed": false
   },
   "outputs": [
    {
     "data": {
      "text/plain": [
       "alpha             0.000775\n",
       "alpha.garch.t     0.000351\n",
       "alpha.garch.st    0.000339\n",
       "alpha.gas         0.000258\n",
       "alpha.gas.t       0.000180\n",
       "alpha.gas.sp      0.000682\n",
       "alpha.gas.st      0.000317\n",
       "omega.gas.st      0.130224\n",
       "dtype: float64"
      ]
     },
     "execution_count": 6,
     "metadata": {},
     "output_type": "execute_result"
    }
   ],
   "source": [
    "df1.var()"
   ]
  },
  {
   "cell_type": "code",
   "execution_count": 7,
   "metadata": {
    "collapsed": false
   },
   "outputs": [],
   "source": [
    "import pandas as pd\n",
    "import numpy as np\n",
    "import pandas as pd\n",
    "from scipy import stats, integrate\n",
    "import seaborn as sns\n",
    "import matplotlib.pyplot as plt\n",
    "import os\n",
    "import warnings\n",
    "\n",
    "sns.set(color_codes=True)\n",
    "np.random.seed(sum(map(ord, \"distributions\")))\n",
    "names = df1.columns.values\n",
    "#for i in range(0,6,1): \n",
    "    #x = df1[[i]]\n",
    "    #x = np.array(x)      \n",
    "    #x = x.flatten()           \n",
    "    #sns.kdeplot(x, bw=.05, label=names[i])\n",
    "    #sns.distplot(x, hist = False, label=names[i]);\n",
    "#plt.axvline(x=0.85)\n",
    "\n"
   ]
  },
  {
   "cell_type": "code",
   "execution_count": 8,
   "metadata": {
    "collapsed": false,
    "scrolled": true
   },
   "outputs": [
    {
     "data": {
      "image/png": "[encoded data removed]",
      "text/plain": [
       "<matplotlib.figure.Figure at 0x1134434e0>"
      ]
     },
     "metadata": {},
     "output_type": "display_data"
    }
   ],
   "source": [
    "df1.plot(kind=\"kde\",legend = True, figsize = (20,10))\n",
    "plt.axvline(x=0.1, ls = 'dashed')\n",
    "plt.show()"
   ]
  },
  {
   "cell_type": "code",
   "execution_count": 26,
   "metadata": {
    "collapsed": false
   },
   "outputs": [],
   "source": [
    "from sklearn.metrics import mean_squared_error\n",
    "from math import sqrt"
   ]
  },
  {
   "cell_type": "code",
   "execution_count": 27,
   "metadata": {
    "collapsed": true
   },
   "outputs": [],
   "source": [
    "d = ({})\n",
    "names = df1.columns.values\n",
    "for i in range(0,6,1): \n",
    "    x = df1[[i]]\n",
    "    x = np.array(x)      \n",
    "    x = x.flatten()\n",
    "    rms = sqrt(mean_squared_error(np.repeat(0.10,len(x)), x))\n",
    "    d.update({names[i]: rms})"
   ]
  },
  {
   "cell_type": "code",
   "execution_count": 28,
   "metadata": {
    "collapsed": false
   },
   "outputs": [
    {
     "data": {
      "text/html": [
       "<div>\n",
       "<table border=\"1\" class=\"dataframe\">\n",
       "  <thead>\n",
       "    <tr style=\"text-align: right;\">\n",
       "      <th></th>\n",
       "      <th>alpha.garch</th>\n",
       "      <th>alpha.garch.t</th>\n",
       "      <th>alpha.gas</th>\n",
       "      <th>alpha.gas.sp</th>\n",
       "      <th>alpha.gas.st</th>\n",
       "      <th>alpha.gas.t</th>\n",
       "    </tr>\n",
       "  </thead>\n",
       "  <tbody>\n",
       "    <tr>\n",
       "      <th>RMSE</th>\n",
       "      <td>0.02777</td>\n",
       "      <td>0.02022</td>\n",
       "      <td>0.038428</td>\n",
       "      <td>0.028638</td>\n",
       "      <td>0.0216</td>\n",
       "      <td>0.021298</td>\n",
       "    </tr>\n",
       "  </tbody>\n",
       "</table>\n",
       "</div>"
      ],
      "text/plain": [
       "      alpha.garch  alpha.garch.t  alpha.gas  alpha.gas.sp  alpha.gas.st  \\\n",
       "RMSE      0.02777        0.02022   0.038428      0.028638        0.0216   \n",
       "\n",
       "      alpha.gas.t  \n",
       "RMSE     0.021298  "
      ]
     },
     "execution_count": 28,
     "metadata": {},
     "output_type": "execute_result"
    }
   ],
   "source": [
    "df = pd.DataFrame(d, index=['RMSE'])\n",
    "df"
   ]
  }
 ],
 "metadata": {
  "kernelspec": {
   "display_name": "Python 3",
   "language": "python",
   "name": "python3"
  },
  "language_info": {
   "codemirror_mode": {
    "name": "ipython",
    "version": 3
   },
   "file_extension": ".py",
   "mimetype": "text/x-python",
   "name": "python",
   "nbconvert_exporter": "python",
   "pygments_lexer": "ipython3",
   "version": "3.6.0"
  }
 },
 "nbformat": 4,
 "nbformat_minor": 2
}
